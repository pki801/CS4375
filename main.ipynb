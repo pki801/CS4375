import argparse
import matplotlib.pyplot as plt
import seaborn as sns
from sklearn.metrics import confusion_matrix, accuracy_score, precision_score, recall_score, f1_score
from ffnn import train_ffnn
from rnn import train_rnn

def parse_arguments():
    parser = argparse.ArgumentParser(description='Sentiment Analysis with Neural Networks')
    parser.add_argument('--model', type=str, choices=['ffnn', 'rnn'], default='ffnn', help='Model to train (ffnn or rnn)')
    parser.add_argument('--train_data', type=str, required=True, help='train.csv')
    parser.add_argument('--val_data', type=str, required=True, help='val.csv')
    parser.add_argument('--embedding', type=str, required=True, help='word_embedding.pkl')
    parser.add_argument('--hidden_dim', type=int, default=128, help='32,64,128,256')
    parser.add_argument('--epochs', type=int, default=10, help='Number of epochs')
    parser.add_argument('--batch_size', type=int, default=32, help='Batch size')
    return parser.parse_args()

def plot_loss_curves(train_losses, val_losses):
    plt.figure(figsize=(10, 5))
    plt.plot(train_losses, label='Training Loss')
    plt.plot(val_losses, label='Validation Loss')
    plt.xlabel('Epochs')
    plt.ylabel('Loss')
    plt.title('Training and Validation Loss Curves')
    plt.legend()
    plt.show()

def plot_confusion_matrix(cm, classes):
    plt.figure(figsize=(8, 6))
    sns.heatmap(cm, annot=True, fmt='d', cmap='Blues', xticklabels=classes, yticklabels=classes)
    plt.xlabel('Predicted Label')
    plt.ylabel('True Label')
    plt.title('Confusion Matrix')
    plt.show()

def main():
    args = parse_arguments()

    if args.model == 'ffnn':
        train_losses, val_losses, val_predictions, val_labels = train_ffnn(args.train_data, args.val_data, args.embedding, args.hidden_dim, args.epochs, args.batch_size)
    elif args.model == 'rnn':
        train_losses, val_losses, val_predictions, val_labels = train_rnn(args.train_data, args.val_data, args.embedding, args.hidden_dim, args.epochs, args.batch_size)
    else:
        print('Invalid model name')

    # Plot loss curves
    plot_loss_curves(train_losses, val_losses)

    # Compute evaluation metrics
    val_accuracy = accuracy_score(val_labels, val_predictions)
    val_precision = precision_score(val_labels, val_predictions, average='macro')
    val_recall = recall_score(val_labels, val_predictions, average='macro')
    val_f1 = f1_score(val_labels, val_predictions, average='macro')

    print(f'Validation Accuracy: {val_accuracy}')
    print(f'Validation Precision: {val_precision}')
    print(f'Validation Recall: {val_recall}')
    print(f'Validation F1-score: {val_f1}')

    # Compute confusion matrix
    classes = ['Class 1', 'Class 2', 'Class 3', 'Class 4', 'Class 5']
    cm = confusion_matrix(val_labels, val_predictions)
    plot_confusion_matrix(cm, classes)

if __name__ == "__main__":
    main()

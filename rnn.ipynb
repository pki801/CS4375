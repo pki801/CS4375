import torch
import torch.nn as nn
import torch.optim as optim
from torch.utils.data import DataLoader
from data_loader import YelpDataset, get_data_loader

class RNN(nn.Module):
    def __init__(self, input_dim, embedding_dim, hidden_dim, output_dim):
        super(RNN, self).__init__()
        self.embedding = nn.Embedding(input_dim, embedding_dim)
        self.rnn = nn.RNN(embedding_dim, hidden_dim, batch_first=True)
        self.fc = nn.Linear(hidden_dim, output_dim)

    def forward(self, x):
        embedded = self.embedding(x)
        output, _ = self.rnn(embedded)
        output = self.fc(output[:, -1, :])
        return torch.log_softmax(output, dim=1)

def train_rnn(train_data_path, val_data_path, embedding_path, hidden_dim, epochs, batch_size):
    # Load data
    train_loader = get_data_loader(train_data_path, batch_size)
    val_loader = get_data_loader(val_data_path, batch_size, shuffle=False)

    # Initialize model
    input_dim = 300  # Assuming word embeddings are of dimension 300
    output_dim = 5   # Number of sentiment classes
    model = RNN(input_dim, input_dim, hidden_dim, output_dim)

    # Define loss function and optimizer
    criterion = nn.NLLLoss()
    optimizer = optim.Adam(model.parameters())

    # Training loop
    for epoch in range(epochs):
        model.train()
        running_loss = 0.0
        for inputs, labels in train_loader:
            # Zero the parameter gradients
            optimizer.zero_grad()

            # Forward pass
            outputs = model(inputs)

            # Compute loss
            loss = criterion(outputs, labels)

            # Backward pass and optimize
            loss.backward()
            optimizer.step()

            running_loss += loss.item()

        # Print average training loss for each epoch
        print(f'Epoch [{epoch+1}/{epochs}], Loss: {running_loss / len(train_loader)}')

        # Evaluate on validation set
        val_loss = evaluate(model, val_loader, criterion)
        print(f'Validation Loss: {val_loss}')

    print('Finished Training')

def evaluate(model, data_loader, criterion):
    model.eval()
    total_loss = 0.0
    with torch.no_grad():
        for inputs, labels in data_loader:
            outputs = model(inputs)
            loss = criterion(outputs, labels)
            total_loss += loss.item()
    return total_loss / len(data_loader)

if __name__ == "__main__":
    # Set hyperparameters
    HIDDEN_DIM = 128
    EPOCHS = 10
    BATCH_SIZE = 32

    # File paths
    TRAIN_DATA_PATH = 'train.csv'
    VAL_DATA_PATH = 'val.csv'
    EMBEDDING_PATH = 'word_embedding.pkl'

    # Train RNN
    train_rnn(TRAIN_DATA_PATH, VAL_DATA_PATH, EMBEDDING_PATH, HIDDEN_DIM, EPOCHS, BATCH_SIZE)
